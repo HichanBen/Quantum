{
 "cells": [
  {
   "cell_type": "markdown",
   "id": "7d8cbd77",
   "metadata": {},
   "source": [
    "# VQE (Variational Quantum Eigensolver) — single-qubit worked example (Qiskit)\n",
    "\n",
    "This notebook implements VQE for the Hamiltonian\n",
    "\n",
    "\\[ H = 2 Z + X + I \\]\n",
    "\n",
    "It includes:\n",
    "\n",
    "- exact diagonalization (classical) to get the true ground-state energy\n",
    "- a variational ansatz and a VQE run using Qiskit Aer simulator\n",
    "- comparison of the VQE result against the exact value\n",
    "\n",
    "**Requirements:** Qiskit installed (`pip install qiskit`), and Qiskit Aer for the statevector simulator.\n",
    "\n",
    "Run the cells in order in a Jupyter environment where Qiskit is available."
   ]
  },
  {
   "cell_type": "markdown",
   "id": "966d2668",
   "metadata": {},
   "source": [
    "## 1) Imports and setup\n",
    "\n",
    "We'll import Qiskit utilities, build a quantum instance for reproducible simulation, and set seeds. If you don't have Qiskit installed, install it first with `pip install qiskit`."
   ]
  },
  {
   "cell_type": "code",
   "execution_count": null,
   "id": "66c0f9ad",
   "metadata": {},
   "outputs": [],
   "source": [
    "# 1) Imports and basic setup for Qiskit 1.0+\n",
    "from qiskit_aer import AerSimulator\n",
    "from qiskit.quantum_info import SparsePauliOp\n",
    "from qiskit.circuit.library import RealAmplitudes\n",
    "from qiskit_algorithms import VQE\n",
    "from qiskit_algorithms.optimizers import COBYLA, SPSA\n",
    "from qiskit_algorithms.utils import algorithm_globals\n",
    "\n",
    "# Import the Estimator: the new primitive for expectation value calculation\n",
    "# Note: We use the Aer version for simulation here.\n",
    "from qiskit_aer.primitives import Estimator\n",
    "\n",
    "import numpy as np\n",
    "import matplotlib.pyplot as plt\n",
    "\n",
    "# For reproducibility\n",
    "seed = 42\n",
    "algorithm_globals.random_seed = seed\n",
    "\n",
    "# Choose backend (We now configure the simulator through the Estimator)\n",
    "# The 'method' is set in the Estimator instead of the QuantumInstance\n",
    "simulator = AerSimulator()\n",
    "\n",
    "# Print Qiskit version for confirmation\n",
    "print('Setup complete. Qiskit version:', end=' ')\n",
    "try:\n",
    "    import qiskit\n",
    "    print(qiskit.__version__)\n",
    "except Exception as e:\n",
    "    print('Qiskit import failed — make sure Qiskit is installed. Error:', e)\n"
   ]
  },
  {
   "cell_type": "markdown",
   "id": "122b72b0",
   "metadata": {},
   "source": [
    "## 2) Build the Hamiltonian\n",
    "\n",
    "We'll represent the Hamiltonian as a Qiskit `PauliSumOp`:\n",
    "\n",
    "\\[ H = 2 Z + X + I \\]\n",
    "\n",
    "This is a single-qubit operator; we can diagonalize the 2×2 matrix classically to obtain the exact eigenvalues for verification."
   ]
  },
  {
   "cell_type": "code",
   "execution_count": null,
   "id": "b78fc27f",
   "metadata": {},
   "outputs": [],
   "source": [
    "# 2) Build the Hamiltonian H = 2*Z + X + I\n",
    "# Using SparsePauliOp with Pauli string literals\n",
    "H_op = SparsePauliOp.from_list([\n",
    "    (\"Z\", 2.0),  # Represents 2 * Z\n",
    "    (\"X\", 1.0),  # Represents 1 * X\n",
    "    (\"I\", 1.0)   # Represents 1 * I\n",
    "])\n",
    "\n",
    "print('Hamiltonian (SparsePauliOp):')\n",
    "print(H_op)"
   ]
  },
  {
   "cell_type": "markdown",
   "id": "3fc27f3d",
   "metadata": {},
   "source": [
    "## 3) Exact classical solution\n",
    "\n",
    "We diagonalize the 2×2 matrix to obtain exact eigenvalues and eigenvectors. The lowest eigenvalue is the true ground-state energy."
   ]
  },
  {
   "cell_type": "code",
   "execution_count": null,
   "id": "12a1bed8",
   "metadata": {},
   "outputs": [],
   "source": [
    "# 3) Exact classical diagonalization\n",
    "H_mat = H_op.to_matrix()\n",
    "eigvals, eigvecs = np.linalg.eigh(H_mat)\n",
    "print('Exact eigenvalues (lowest is ground-state energy):\\n', eigvals)\n",
    "\n",
    "ground_energy_exact = np.min(eigvals)\n",
    "print(f'Exact ground-state energy = {ground_energy_exact:.12f}')"
   ]
  },
  {
   "cell_type": "markdown",
   "id": "a2ae8d19",
   "metadata": {},
   "source": [
    "## 4) Variational ansatz and VQE setup\n",
    "\n",
    "We pick a simple single-qubit variational form — `RealAmplitudes` with one repetition is sufficient for a single qubit. Then we create a `VQE` instance with a classical optimizer (COBYLA by default)."
   ]
  },
  {
   "cell_type": "code",
   "execution_count": null,
   "id": "8bfa84d7",
   "metadata": {},
   "outputs": [],
   "source": [
    "# 4) VQE setup\n",
    "ansatz = RealAmplitudes(num_qubits=1, reps=1)\n",
    "\n",
    "# Choose an optimizer - COBYLA works well for small noiseless runs\n",
    "optimizer = COBYLA(maxiter=200)\n",
    "\n",
    "# Initialize the ESTIMATOR V2 primitive for the Aer simulator\n",
    "# This is the correct import for the new primitives interface\n",
    "from qiskit_aer.primitives import Estimator as AerEstimator\n",
    "\n",
    "estimator = AerEstimator(\n",
    "    backend_options={\n",
    "        'method': 'statevector'  # Ensures we use the exact statevector method\n",
    "    },\n",
    "    run_options={\n",
    "        'seed': seed  # For reproducibility\n",
    "    },\n",
    "    # This is key for V2: set the number of shots to None for exact statevector calculation\n",
    "    transpile_options={\"seed_transpiler\": seed}\n",
    ")\n",
    "\n",
    "# Build VQE instance using the Estimator\n",
    "vqe = VQE(estimator, ansatz, optimizer)\n",
    "\n",
    "print('Ansatz:') \n",
    "print(ansatz)"
   ]
  },
  {
   "cell_type": "markdown",
   "id": "68b9a4ce",
   "metadata": {},
   "source": [
    "## 5) Run VQE\n",
    "\n",
    "We run VQE to estimate the ground-state energy and then compare it with the exact value."
   ]
  },
  {
   "cell_type": "code",
   "execution_count": null,
   "id": "f2b76b59",
   "metadata": {},
   "outputs": [],
   "source": [
    "# 5) Run VQE\n",
    "# The operator is now the SparsePauliOp (H_op) we created earlier\n",
    "result = vqe.compute_minimum_eigenvalue(operator=H_op)\n",
    "\n",
    "print('\\nVQE result summary:')\n",
    "print(result)\n",
    "\n",
    "vqe_energy = result.eigenvalue.real\n",
    "print(f'\\nVQE estimated ground-state energy = {vqe_energy:.12f}')\n",
    "print(f'Absolute error vs exact = {abs(vqe_energy - ground_energy_exact):.6e}')"
   ]
  },
  {
   "cell_type": "markdown",
   "id": "d256dcbd",
   "metadata": {},
   "source": [
    "## 6) (Optional) Convergence plot\n",
    "\n",
    "If the Qiskit `result` object contains an optimization history, we attempt to extract and plot the energy per iteration. Different Qiskit versions store optimizer history differently; we try multiple common fields."
   ]
  },
  {
   "cell_type": "code",
   "execution_count": null,
   "id": "63838744",
   "metadata": {},
   "outputs": [],
   "source": [
    "# 6) Plot optimizer energy history if available\n",
    "energy_history = None\n",
    "try:\n",
    "    # Newer Qiskit versions: result.optimal_parameters, result.optimizer_evals might exist\n",
    "    if hasattr(result, 'optimizer_history') and result.optimizer_history is not None:\n",
    "        # optimizer_history often is a list of dicts with 'energy' keys\n",
    "        energy_history = [r['energy'] for r in result.optimizer_history if 'energy' in r]\n",
    "    elif hasattr(result, 'optimizer_evals') and result.optimizer_evals is not None:\n",
    "        # optimizer_evals might be list of tuples (params, energy)\n",
    "        energy_history = [e for (_, e) in result.optimizer_evals]\n",
    "except Exception:\n",
    "    energy_history = None\n",
    "\n",
    "if energy_history is not None and len(energy_history) > 0:\n",
    "    plt.figure(figsize=(6,4))\n",
    "    plt.plot(energy_history, marker='o')\n",
    "    plt.xlabel('Iteration')\n",
    "    plt.ylabel('Energy')\n",
    "    plt.title('VQE energy convergence')\n",
    "    plt.grid(True)\n",
    "    plt.show()\n",
    "else:\n",
    "    print('\\nNo optimizer energy history found in the returned result object to plot. This is common across Qiskit versions.')"
   ]
  },
  {
   "cell_type": "markdown",
   "id": "6c65b366",
   "metadata": {},
   "source": [
    "## 7) Optional: prepare the variational state and compute fidelity with exact ground state\n",
    "\n",
    "If the VQE result contains the optimal parameters, we can build the ansatz circuit with those parameters, simulate the statevector, and compute fidelity with the exact ground-state vector from diagonalization."
   ]
  },
  {
   "cell_type": "code",
   "execution_count": 36,
   "id": "b7fc5a65",
   "metadata": {},
   "outputs": [
    {
     "name": "stdout",
     "output_type": "stream",
     "text": [
      "\n",
      "Optimal variational parameters:\n",
      "{ParameterVectorElement(θ[0]): np.float64(2.8491556753963945), ParameterVectorElement(θ[1]): np.float64(0.7559683168658696)}\n",
      "\n",
      "Could not extract optimal parameters or compute fidelity; this may depend on your Qiskit version.\n",
      "Error: 'RealAmplitudes' object has no attribute 'bind_parameters'\n"
     ]
    }
   ],
   "source": [
    "# 7) Extract optimal parameters and compute fidelity (if possible)\n",
    "try:\n",
    "    optimal_params = result.optimal_parameters\n",
    "    print('\\nOptimal variational parameters:')\n",
    "    print(optimal_params)\n",
    "\n",
    "    # Bind parameters and get statevector\n",
    "    circ = ansatz.bind_parameters(optimal_params)\n",
    "    circ = transpile(circ, backend=backend)\n",
    "    circ.save_statevector()\n",
    "    job = backend.run(circ)\n",
    "    out = job.result()\n",
    "    psi = out.get_statevector(circ)\n",
    "\n",
    "    # exact ground state vector (from eigvecs)\n",
    "    gs_index = np.argmin(eigvals)\n",
    "    gs_vec = eigvecs[:, gs_index]\n",
    "\n",
    "    fidelity = np.abs(np.vdot(gs_vec, psi))**2\n",
    "    print(f'\\nFidelity between VQE ansatz state and exact ground state = {fidelity:.12f}')\n",
    "except Exception as e:\n",
    "    print('\\nCould not extract optimal parameters or compute fidelity; this may depend on your Qiskit version.')\n",
    "    print('Error:', e)"
   ]
  },
  {
   "cell_type": "markdown",
   "id": "dc4ece55",
   "metadata": {},
   "source": [
    "## 8) Notes and next steps\n",
    "\n",
    "- If you want to run this on a noisy backend, we can add a noise model from Qiskit's Aer noise module.\n",
    "- For multi-qubit Hamiltonians you'll typically map fermionic Hamiltonians (in chemistry) to qubit operators; then the structure is similar but requires more complex ansätze and optimizers.\n",
    "\n",
    "---\n",
    "\n",
    "If you want, I can also:\n",
    "\n",
    "- add a noise-model section and run VQE under noise,\n",
    "- export this notebook to a `.py` script or a downloadable `.ipynb` (done below),\n",
    "- or merge this into the notebook you uploaded earlier."
   ]
  },
  {
   "cell_type": "code",
   "execution_count": 35,
   "id": "756c3a49",
   "metadata": {},
   "outputs": [
    {
     "name": "stdout",
     "output_type": "stream",
     "text": [
      "Hamiltonian:\n",
      "SparsePauliOp(['Z', 'X', 'I'],\n",
      "              coeffs=[2.+0.j, 1.+0.j, 1.+0.j])\n",
      "Exact eigenvalues:\n",
      " [-1.23606798  3.23606798]\n",
      "Exact ground-state energy = -1.236067977500\n",
      "Ansatz:\n",
      "   ┌───────────────────────────┐\n",
      "q: ┤ RealAmplitudes(θ[0],θ[1]) ├\n",
      "   └───────────────────────────┘\n",
      "\n",
      "VQE result summary:\n",
      "{   'aux_operators_evaluated': None,\n",
      "    'cost_function_evals': 34,\n",
      "    'eigenvalue': np.float64(-1.2360679623853235),\n",
      "    'optimal_circuit': <qiskit.circuit.library.n_local.real_amplitudes.RealAmplitudes object at 0x123b9f160>,\n",
      "    'optimal_parameters': {   ParameterVectorElement(θ[0]): np.float64(2.8491556753963945),\n",
      "                              ParameterVectorElement(θ[1]): np.float64(0.7559683168658696)},\n",
      "    'optimal_point': array([2.84915568, 0.75596832]),\n",
      "    'optimal_value': np.float64(-1.2360679623853235),\n",
      "    'optimizer_evals': None,\n",
      "    'optimizer_result': <qiskit_algorithms.optimizers.optimizer.OptimizerResult object at 0x123b9cc70>,\n",
      "    'optimizer_time': 0.2138521671295166}\n",
      "\n",
      "VQE estimated ground-state energy = -1.236067962385\n",
      "Absolute error vs exact = 1.511447e-08\n"
     ]
    }
   ],
   "source": [
    "# 1) Imports and basic setup\n",
    "from qiskit_aer import AerSimulator\n",
    "from qiskit.quantum_info import SparsePauliOp\n",
    "from qiskit.circuit.library import RealAmplitudes\n",
    "from qiskit_algorithms import VQE\n",
    "from qiskit_algorithms.optimizers import COBYLA\n",
    "from qiskit_algorithms.utils import algorithm_globals\n",
    "\n",
    "# Use StatevectorPrimitive instead\n",
    "from qiskit.primitives import StatevectorEstimator\n",
    "\n",
    "import numpy as np\n",
    "\n",
    "# For reproducibility\n",
    "seed = 42\n",
    "algorithm_globals.random_seed = seed\n",
    "\n",
    "# 2) Build the Hamiltonian\n",
    "H_op = SparsePauliOp.from_list([\n",
    "    (\"Z\", 2.0),\n",
    "    (\"X\", 1.0), \n",
    "    (\"I\", 1.0)\n",
    "])\n",
    "print('Hamiltonian:')\n",
    "print(H_op)\n",
    "\n",
    "# 3) Exact classical diagonalization\n",
    "H_mat = H_op.to_matrix()\n",
    "eigvals, eigvecs = np.linalg.eigh(H_mat)\n",
    "print('Exact eigenvalues:\\n', eigvals)\n",
    "ground_energy_exact = np.min(eigvals)\n",
    "print(f'Exact ground-state energy = {ground_energy_exact:.12f}')\n",
    "\n",
    "# 4) VQE setup - Use StatevectorEstimator\n",
    "ansatz = RealAmplitudes(num_qubits=1, reps=1)\n",
    "optimizer = COBYLA(maxiter=200)\n",
    "\n",
    "# Use StatevectorEstimator for exact simulation\n",
    "estimator = StatevectorEstimator()\n",
    "vqe = VQE(estimator, ansatz, optimizer)\n",
    "\n",
    "print('Ansatz:')\n",
    "print(ansatz)\n",
    "\n",
    "# 5) Run VQE\n",
    "result = vqe.compute_minimum_eigenvalue(operator=H_op)\n",
    "print('\\nVQE result summary:')\n",
    "print(result)\n",
    "vqe_energy = result.eigenvalue.real\n",
    "print(f'\\nVQE estimated ground-state energy = {vqe_energy:.12f}')\n",
    "print(f'Absolute error vs exact = {abs(vqe_energy - ground_energy_exact):.6e}')"
   ]
  }
 ],
 "metadata": {
  "kernelspec": {
   "display_name": "qiskit-env",
   "language": "python",
   "name": "python3"
  },
  "language_info": {
   "codemirror_mode": {
    "name": "ipython",
    "version": 3
   },
   "file_extension": ".py",
   "mimetype": "text/x-python",
   "name": "python",
   "nbconvert_exporter": "python",
   "pygments_lexer": "ipython3",
   "version": "3.10.18"
  }
 },
 "nbformat": 4,
 "nbformat_minor": 5
}
