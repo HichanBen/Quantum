{
 "cells": [
  {
   "cell_type": "markdown",
   "id": "c88fbc7a",
   "metadata": {},
   "source": [
    "# Quantum Circuits and Measurements with Qiskit\n",
    "This notebook demonstrates how to create quantum circuits, apply measurements, simulate them using Qiskit's Aer simulator, and visualize results."
   ]
  },
  {
   "cell_type": "code",
   "execution_count": null,
   "id": "1629989e",
   "metadata": {},
   "outputs": [],
   "source": [
    "!pip install qiskit --quiet"
   ]
  },
  {
   "cell_type": "code",
   "execution_count": null,
   "id": "68789db3",
   "metadata": {},
   "outputs": [],
   "source": [
    "from qiskit import QuantumCircuit, Aer, execute\n",
    "from qiskit.visualization import plot_histogram, plot_bloch_multivector\n",
    "from qiskit.quantum_info import Statevector\n",
    "import matplotlib.pyplot as plt"
   ]
  },
  {
   "cell_type": "markdown",
   "id": "818141d2",
   "metadata": {},
   "source": [
    "## Basic Single-Qubit Circuit"
   ]
  },
  {
   "cell_type": "code",
   "execution_count": null,
   "id": "dd55296d",
   "metadata": {},
   "outputs": [],
   "source": [
    "qc = QuantumCircuit(1,1)\n",
    "qc.h(0)  # Apply Hadamard gate\n",
    "qc.measure(0,0)\n",
    "qc.draw('mpl')"
   ]
  },
  {
   "cell_type": "markdown",
   "id": "3b42a356",
   "metadata": {},
   "source": [
    "## Multi-Qubit Circuit"
   ]
  },
  {
   "cell_type": "code",
   "execution_count": null,
   "id": "7310a9d1",
   "metadata": {},
   "outputs": [],
   "source": [
    "qc2 = QuantumCircuit(2,2)\n",
    "qc2.h(0)\n",
    "qc2.cx(0,1)\n",
    "qc2.measure([0,1],[0,1])\n",
    "qc2.draw('mpl')"
   ]
  },
  {
   "cell_type": "markdown",
   "id": "866f48f1",
   "metadata": {},
   "source": [
    "## Measuring Single Qubits"
   ]
  },
  {
   "cell_type": "code",
   "execution_count": null,
   "id": "539aa0c8",
   "metadata": {},
   "outputs": [],
   "source": [
    "qc3 = QuantumCircuit(1,1)\n",
    "qc3.x(0)  # Apply X gate\n",
    "qc3.measure(0,0)\n",
    "qc3.draw('mpl')"
   ]
  },
  {
   "cell_type": "markdown",
   "id": "b23d1289",
   "metadata": {},
   "source": [
    "## Measuring Multiple Qubits"
   ]
  },
  {
   "cell_type": "code",
   "execution_count": null,
   "id": "3e9441dd",
   "metadata": {},
   "outputs": [],
   "source": [
    "qc4 = QuantumCircuit(3,3)\n",
    "qc4.h(0)\n",
    "qc4.cx(0,1)\n",
    "qc4.cx(0,2)\n",
    "qc4.measure([0,1,2],[0,1,2])\n",
    "qc4.draw('mpl')"
   ]
  },
  {
   "cell_type": "markdown",
   "id": "ebe3317e",
   "metadata": {},
   "source": [
    "## Measuring in Different Bases (X, Y, Z)"
   ]
  },
  {
   "cell_type": "code",
   "execution_count": null,
   "id": "31bc6da8",
   "metadata": {},
   "outputs": [],
   "source": [
    "# Z-basis measurement (default)\n",
    "qc_z = QuantumCircuit(1,1)\n",
    "qc_z.h(0)\n",
    "qc_z.measure(0,0)\n",
    "qc_z.draw('mpl')"
   ]
  },
  {
   "cell_type": "code",
   "execution_count": null,
   "id": "a3f82f24",
   "metadata": {},
   "outputs": [],
   "source": [
    "# X-basis measurement: apply H before measuring\n",
    "qc_x = QuantumCircuit(1,1)\n",
    "qc_x.h(0)\n",
    "qc_x.h(0)\n",
    "qc_x.measure(0,0)\n",
    "qc_x.draw('mpl')"
   ]
  },
  {
   "cell_type": "code",
   "execution_count": null,
   "id": "e778858a",
   "metadata": {},
   "outputs": [],
   "source": [
    "# Y-basis measurement: apply Sdg + H before measuring\n",
    "qc_y = QuantumCircuit(1,1)\n",
    "qc_y.h(0)\n",
    "qc_y.sdg(0)\n",
    "qc_y.h(0)\n",
    "qc_y.measure(0,0)\n",
    "qc_y.draw('mpl')"
   ]
  },
  {
   "cell_type": "markdown",
   "id": "eb314678",
   "metadata": {},
   "source": [
    "## Simulating Circuits with Aer"
   ]
  },
  {
   "cell_type": "code",
   "execution_count": null,
   "id": "fe34b6d5",
   "metadata": {},
   "outputs": [],
   "source": [
    "simulator = Aer.get_backend('qasm_simulator')\n",
    "result = execute(qc2, simulator, shots=1024).result()\n",
    "counts = result.get_counts()\n",
    "print(counts)\n",
    "plot_histogram(counts)"
   ]
  },
  {
   "cell_type": "markdown",
   "id": "d6312611",
   "metadata": {},
   "source": [
    "## Statevector Visualization"
   ]
  },
  {
   "cell_type": "code",
   "execution_count": null,
   "id": "8df30818",
   "metadata": {},
   "outputs": [],
   "source": [
    "state = Statevector.from_instruction(qc2.remove_final_measurements(inplace=False))\n",
    "plot_bloch_multivector(state)"
   ]
  }
 ],
 "metadata": {},
 "nbformat": 4,
 "nbformat_minor": 5
}